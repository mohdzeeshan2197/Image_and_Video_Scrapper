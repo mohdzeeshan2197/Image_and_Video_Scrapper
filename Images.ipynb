{
 "cells": [
  {
   "cell_type": "markdown",
   "id": "ca19fa2b",
   "metadata": {},
   "source": [
    "# Q1. Write a python program to extract the video URL of the first five videos."
   ]
  },
  {
   "cell_type": "code",
   "execution_count": 3,
   "id": "caf9c747",
   "metadata": {},
   "outputs": [],
   "source": [
    "from selenium import webdriver \n",
    "from selenium.webdriver.common.by import By \n",
    "from selenium.webdriver.support.ui import WebDriverWait "
   ]
  },
  {
   "cell_type": "code",
   "execution_count": 10,
   "id": "6b9678b7",
   "metadata": {},
   "outputs": [],
   "source": [
    "driver = webdriver.Chrome() \n",
    "driver.get(\"https://www.youtube.com/@PW-Foundation/videos\")"
   ]
  },
  {
   "cell_type": "code",
   "execution_count": 12,
   "id": "548305df",
   "metadata": {},
   "outputs": [
    {
     "name": "stdout",
     "output_type": "stream",
     "text": [
      "32\n"
     ]
    }
   ],
   "source": [
    "driver.implicitly_wait(10)\n",
    "user_data = driver.find_elements(By.XPATH,'//*[@id=\"thumbnail\"]')\n",
    "links = []\n",
    "for i in user_data:\n",
    "            links.append(i.get_attribute('href'))\n",
    "\n",
    "print(len(links))"
   ]
  },
  {
   "cell_type": "code",
   "execution_count": 13,
   "id": "a6030855",
   "metadata": {},
   "outputs": [
    {
     "data": {
      "text/plain": [
       "[None,\n",
       " 'https://www.youtube.com/watch?v=ZNHlCezYN1I',\n",
       " 'https://www.youtube.com/watch?v=nNmV-fuGW5c',\n",
       " 'https://www.youtube.com/watch?v=6Mht7UigC_w',\n",
       " 'https://www.youtube.com/watch?v=WObRrneLVRY',\n",
       " 'https://www.youtube.com/watch?v=nX5ONgCdLcc']"
      ]
     },
     "execution_count": 13,
     "metadata": {},
     "output_type": "execute_result"
    }
   ],
   "source": [
    "links[:6]"
   ]
  },
  {
   "cell_type": "code",
   "execution_count": null,
   "id": "a4f0cd9b",
   "metadata": {},
   "outputs": [],
   "source": []
  },
  {
   "cell_type": "code",
   "execution_count": null,
   "id": "badd36c7",
   "metadata": {},
   "outputs": [],
   "source": []
  },
  {
   "cell_type": "code",
   "execution_count": null,
   "id": "8113c222",
   "metadata": {},
   "outputs": [],
   "source": []
  },
  {
   "cell_type": "markdown",
   "id": "c4ff8cec",
   "metadata": {},
   "source": [
    "# Q2. Write a python program to extract the URL of the video thumbnails of the first five videos."
   ]
  },
  {
   "cell_type": "code",
   "execution_count": 15,
   "id": "2c613435",
   "metadata": {},
   "outputs": [],
   "source": [
    "thumb = driver.find_elements(By.XPATH,'//*[@id=\"thumbnail\"]/yt-image/img')\n",
    "links_thumbnail =[]\n",
    "for i in thumb:\n",
    "    links_thumbnail.append(i.get_attribute('src'))"
   ]
  },
  {
   "cell_type": "code",
   "execution_count": 16,
   "id": "00f03d13",
   "metadata": {},
   "outputs": [
    {
     "data": {
      "text/plain": [
       "30"
      ]
     },
     "execution_count": 16,
     "metadata": {},
     "output_type": "execute_result"
    }
   ],
   "source": [
    "len(links_thumbnail)"
   ]
  },
  {
   "cell_type": "code",
   "execution_count": 17,
   "id": "cc5b2569",
   "metadata": {},
   "outputs": [
    {
     "data": {
      "text/plain": [
       "['https://i.ytimg.com/vi/ZNHlCezYN1I/hqdefault.jpg?sqp=-oaymwEcCNACELwBSFXyq4qpAw4IARUAAIhCGAFwAcABBg==&rs=AOn4CLBCFqdlLDBC2Kkf3zEF-LK5TNEwkw',\n",
       " 'https://i.ytimg.com/vi/nNmV-fuGW5c/hqdefault.jpg?sqp=-oaymwEcCNACELwBSFXyq4qpAw4IARUAAIhCGAFwAcABBg==&rs=AOn4CLBjSM8jHxXjo8skRTMryGUJsisS9w',\n",
       " None,\n",
       " None,\n",
       " None]"
      ]
     },
     "execution_count": 17,
     "metadata": {},
     "output_type": "execute_result"
    }
   ],
   "source": [
    "links_thumbnail[:5]"
   ]
  },
  {
   "cell_type": "markdown",
   "id": "8ebcca41",
   "metadata": {},
   "source": [
    "# Q3. Write a python program to extract the title of the first five videos."
   ]
  },
  {
   "cell_type": "code",
   "execution_count": 18,
   "id": "f52911db",
   "metadata": {},
   "outputs": [],
   "source": [
    "tle = driver.find_elements(By.ID,\"video-title\")\n",
    "title = []\n",
    "for i in tle:\n",
    "    title.append(i.text)\n",
    "    "
   ]
  },
  {
   "cell_type": "code",
   "execution_count": 29,
   "id": "f09c8464",
   "metadata": {},
   "outputs": [
    {
     "data": {
      "text/plain": [
       "['Revise through PYQs || Electricity || #science #physics',\n",
       " 'Revise through PYQs || Light || #science #physics',\n",
       " 'NEW Batches for Class 10 & 9 - Session 2023-24 || NEEV and UDAAN Batch Launch 🚀',\n",
       " 'आपको Commerce में क्या सीखने को मिलता है ?? Complete Information',\n",
       " 'How to Attempt English Board Exam ????']"
      ]
     },
     "execution_count": 29,
     "metadata": {},
     "output_type": "execute_result"
    }
   ],
   "source": [
    "title[:5]"
   ]
  },
  {
   "cell_type": "markdown",
   "id": "7ab410d3",
   "metadata": {},
   "source": [
    "# Q4. Write a python program to extract the number of views of the first five videos."
   ]
  },
  {
   "cell_type": "code",
   "execution_count": 20,
   "id": "1c92a559",
   "metadata": {},
   "outputs": [],
   "source": [
    "v = driver.find_elements(By.XPATH,'//*[@id=\"metadata-line\"]/span[1]')\n",
    "views=[]\n",
    "for i in v:\n",
    "    views.append(i.text)"
   ]
  },
  {
   "cell_type": "code",
   "execution_count": 21,
   "id": "5d779872",
   "metadata": {},
   "outputs": [
    {
     "data": {
      "text/plain": [
       "['4.7K views', '26K views', '33K views', '11K views', '184K views']"
      ]
     },
     "execution_count": 21,
     "metadata": {},
     "output_type": "execute_result"
    }
   ],
   "source": [
    "views[:5]"
   ]
  },
  {
   "cell_type": "markdown",
   "id": "446fcd92",
   "metadata": {},
   "source": [
    "# Q5. Write a python program to extract the time of posting of video for the first five videos."
   ]
  },
  {
   "cell_type": "code",
   "execution_count": 24,
   "id": "2dbb3900",
   "metadata": {},
   "outputs": [],
   "source": [
    "p = driver.find_elements(By.XPATH,'//*[@id=\"metadata-line\"]/span[2]')\n",
    "post_time = []\n",
    "for i in p:\n",
    "    post_time.append(i.text)"
   ]
  },
  {
   "cell_type": "code",
   "execution_count": 25,
   "id": "212a0c42",
   "metadata": {},
   "outputs": [
    {
     "data": {
      "text/plain": [
       "['1 hour ago', '6 hours ago', '8 hours ago', '2 days ago', '6 days ago']"
      ]
     },
     "execution_count": 25,
     "metadata": {},
     "output_type": "execute_result"
    }
   ],
   "source": [
    "post_time[:5]"
   ]
  }
 ],
 "metadata": {
  "kernelspec": {
   "display_name": "Python 3 (ipykernel)",
   "language": "python",
   "name": "python3"
  },
  "language_info": {
   "codemirror_mode": {
    "name": "ipython",
    "version": 3
   },
   "file_extension": ".py",
   "mimetype": "text/x-python",
   "name": "python",
   "nbconvert_exporter": "python",
   "pygments_lexer": "ipython3",
   "version": "3.9.13"
  }
 },
 "nbformat": 4,
 "nbformat_minor": 5
}
